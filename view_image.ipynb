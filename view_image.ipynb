{
 "cells": [
  {
   "cell_type": "code",
   "execution_count": null,
   "metadata": {},
   "outputs": [],
   "source": [
    "# 檢視資料影像, 分類及label\n",
    "def plot_images(Images, Labels, Prediction=[], num=12, show=True):    \n",
    "    if num > 30: num = 30 \n",
    "    row = math.ceil(num/6)\n",
    "    fig, ax = plot.subplots(row, 6, figsize=(24, row*3))\n",
    "    pic = 1\n",
    "    for i in range(row):\n",
    "        for j in range(6):\n",
    "            if pic <= num:\n",
    "                idx = randint(0,len(Images)-1)          \n",
    "                ax[i,j].imshow(Images[idx])  \n",
    "                title = get_class(Labels[idx])\n",
    "                if len(Prediction) > 0:\n",
    "                    title = \"gt={},p={}\".format(title, get_class(Prediction[idx]))                      \n",
    "                ax[i,j].set_title(title)\n",
    "\n",
    "        ax[i,j].axis('off')\n",
    "        pic += 1                                                \n",
    "    plot.show()"
   ]
  }
 ],
 "metadata": {
  "kernelspec": {
   "display_name": "Python 3.9.13 ('aicup')",
   "language": "python",
   "name": "python3"
  },
  "language_info": {
   "name": "python",
   "version": "3.9.13"
  },
  "orig_nbformat": 4,
  "vscode": {
   "interpreter": {
    "hash": "cbd6ff6e9c6c43a16d8d45aafea9a414bfa1be2f55f27eda37daf58c8294c996"
   }
  }
 },
 "nbformat": 4,
 "nbformat_minor": 2
}
